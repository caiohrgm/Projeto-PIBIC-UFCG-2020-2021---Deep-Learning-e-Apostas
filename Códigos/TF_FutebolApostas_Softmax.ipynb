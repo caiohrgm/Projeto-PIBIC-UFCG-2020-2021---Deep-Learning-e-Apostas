{
  "nbformat": 4,
  "nbformat_minor": 0,
  "metadata": {
    "colab": {
      "name": " TF_FutebolApostas-Softmax.ipynb",
      "provenance": [],
      "collapsed_sections": [],
      "authorship_tag": "ABX9TyOb+xpG6GA6FDWs3oXo4hZM",
      "include_colab_link": true
    },
    "kernelspec": {
      "name": "python3",
      "display_name": "Python 3"
    }
  },
  "cells": [
    {
      "cell_type": "markdown",
      "metadata": {
        "id": "view-in-github",
        "colab_type": "text"
      },
      "source": [
        "<a href=\"https://colab.research.google.com/github/caiohrgm/Projeto-Deep-Learning-e-Apostas_2021/blob/main/TF_FutebolApostas_Softmax.ipynb\" target=\"_parent\"><img src=\"https://colab.research.google.com/assets/colab-badge.svg\" alt=\"Open In Colab\"/></a>"
      ]
    },
    {
      "cell_type": "code",
      "metadata": {
        "id": "OiedmjWYSC3P",
        "colab": {
          "base_uri": "https://localhost:8080/"
        },
        "outputId": "96bd5673-d1d4-4dae-bd3f-f55a0921a16e"
      },
      "source": [
        "import pandas as pd\n",
        "import numpy as np\n",
        "import datetime\n",
        "import tensorflow as tf\n",
        "import io\n",
        "from google.colab import files\n",
        "from keras.callbacks import LearningRateScheduler\n",
        "\n",
        "print(\"Versão do TensorFlow:\",tf.__version__)"
      ],
      "execution_count": null,
      "outputs": [
        {
          "output_type": "stream",
          "text": [
            "Versão do TensorFlow: 2.4.1\n"
          ],
          "name": "stdout"
        }
      ]
    },
    {
      "cell_type": "code",
      "metadata": {
        "id": "yOtMSCt6lcv_"
      },
      "source": [
        "def step_decay_schedule(initial_lr, decay_factor, step_size):\n",
        "    '''\n",
        "    Wrapper function to create a LearningRateScheduler with step decay schedule.\n",
        "    '''\n",
        "    def schedule(epoch):\n",
        "        return initial_lr * (decay_factor ** np.floor(epoch/step_size))\n",
        "    \n",
        "    return LearningRateScheduler(schedule)\n",
        "\n",
        "# This function keeps the initial learning rate for the first ten epochs\n",
        "# and decreases it exponentially after that.\n",
        "def scheduler(epoch, lr):\n",
        "  if epoch < 10:\n",
        "    return lr\n",
        "  else:\n",
        "    return lr * tf.math.exp(-0.1)\n",
        "\n",
        "# Function for decaying the learning rate.\n",
        "# You can define any decay function you need.\n",
        "def decay(epoch):\n",
        "  if epoch < 3:\n",
        "    return 1e-3\n",
        "  elif epoch >= 3 and epoch < 7:\n",
        "    return 1e-4\n",
        "  else:\n",
        "    return 1e-5"
      ],
      "execution_count": null,
      "outputs": []
    },
    {
      "cell_type": "markdown",
      "metadata": {
        "id": "VutFdP2CSSXw"
      },
      "source": [
        "**FUNÇÕES**"
      ]
    },
    {
      "cell_type": "code",
      "metadata": {
        "id": "G154D8YB4iSp"
      },
      "source": [
        "# Coleta os dados totais dos times a cada round\n",
        "def getTotalPreviousRounds(currentround,menorDatabase):\n",
        "\n",
        "    dic = {}\n",
        "\n",
        "    if currentround >= 14:\n",
        "        trainDataMax = (currentround*10)-10 # coleta os dados da linha 0 até a última linha antes da round atual;\n",
        "        for i in range(40,trainDataMax,1):\n",
        "              team = str(menorDatabase.iloc[i,0])\n",
        "              if(team not in dic):\n",
        "                  dic[team] = {'GamesH':0,'GamesA':0,'FTHG':0,'FTAG':0,'HS':0,'AS':0,'HST':0,'AST':0}  # Define as stats base zero para o novo time;\n",
        "                  \n",
        "                  dic[team]['GamesH'] = dic[team]['GamesH'] + 1 #|------------------------> Games: quantidade de jogos como mandante;\n",
        "                  dic[team]['FTHG'] = dic[team]['FTHG'] + int(menorDatabase.iloc[i,2]) #|--------> FTHG: Goals do Mandante no jogo todo; \n",
        "                  dic[team]['HS'] = dic[team]['HS'] + int(menorDatabase.iloc[i,5]) #|------------> HS: Chutes ao gol do Mandante;\n",
        "                  dic[team]['HST'] = dic[team]['HST'] + int(menorDatabase.iloc[i,7]) #|----------> HST: Chutes no alvo do Mandante;\n",
        "\n",
        "              else:\n",
        "                  dic[team]['GamesH'] = dic[team]['GamesH'] + 1 #|------------------------> Games: quantidade de jogos como mandante;\n",
        "                  dic[team]['FTHG'] = dic[team]['FTHG'] + int(menorDatabase.iloc[i,2]) #|--------> FTHG: Goals do Mandante no jogo todo;  \n",
        "                  dic[team]['HS'] = dic[team]['HS'] + int(menorDatabase.iloc[i,5]) #|------------> HS: CHutes ao gol do Mandante;\n",
        "                  dic[team]['HST'] = dic[team]['HST'] + int(menorDatabase.iloc[i,7]) #|----------> ST: Chutes no alvo do Mandante;\n",
        "\n",
        "        for i in range(trainDataMax):\n",
        "              team = str(menor.iloc[i,1])\n",
        "              if(team not in dic):\n",
        "                  dic[team] = {'GamesH':0,'GamesA':0,'FTHG':0,'FTAG':0,'HS':0,'AS':0,'HST':0,'AST':0}  # Repetindo para o caso do time ainda não ter sido inserido na lista;\n",
        "              dic[team]['GamesA'] = dic[team]['GamesA'] + 1 \n",
        "              dic[team]['FTAG'] = dic[team]['FTAG'] + int(menorDatabase.iloc[i,3]) #|-----------> FTAG: Goals do Visitante no jogo todo;  \n",
        "              dic[team]['AS'] = dic[team]['AS'] + int(menorDatabase.iloc[i,6]) #|---------------> AS: Chutes ao gol do Visitante;\n",
        "              dic[team]['AST'] = dic[team]['AST'] + int(menorDatabase.iloc[i,8]) #|-------------> AST: Chutes no alvo do Visitante;\n",
        "    \n",
        "    elif currentround == 13:\n",
        "          trainDataMax = 40 # coleta os dados da linha 0 até a linha 40\n",
        "          for i in range(0,trainDataMax,1):\n",
        "              team = str(menorDatabase.iloc[i,0])\n",
        "              if(team not in dic):\n",
        "                  dic[team] = {'GamesH':0,'GamesA':0,'FTHG':0,'FTAG':0,'HS':0,'AS':0,'HST':0,'AST':0}  # Define as stats base zero para o novo time;\n",
        "                  \n",
        "                  dic[team]['GamesH'] = dic[team]['GamesH'] + 1 #|------------------------> Games: quantidade de jogos como mandante;\n",
        "                  dic[team]['FTHG'] = dic[team]['FTHG'] + int(menorDatabase.iloc[i,2]) #|--------> FTHG: Goals do Mandante no jogo todo; \n",
        "                  dic[team]['HS'] = dic[team]['HS'] + int(menorDatabase.iloc[i,5]) #|------------> HS: Chutes ao gol do Mandante;\n",
        "                  dic[team]['HST'] = dic[team]['HST'] + int(menorDatabase.iloc[i,7]) #|----------> HST: Chutes no alvo do Mandante;\n",
        "\n",
        "              else:\n",
        "                  dic[team]['GamesH'] = dic[team]['GamesH'] + 1 #|------------------------> Games: quantidade de jogos como mandante;\n",
        "                  dic[team]['FTHG'] = dic[team]['FTHG'] + int(menorDatabase.iloc[i,2]) #|--------> FTHG: Goals do Mandante no jogo todo;  \n",
        "                  dic[team]['HS'] = dic[team]['HS'] + int(menorDatabase.iloc[i,5]) #|------------> HS: CHutes ao gol do Mandante;\n",
        "                  dic[team]['HST'] = dic[team]['HST'] + int(menorDatabase.iloc[i,7]) #|----------> ST: Chutes no alvo do Mandante;\n",
        "\n",
        "          for i in range(trainDataMax):\n",
        "              team = str(menor.iloc[i,1])\n",
        "              if(team not in dic):\n",
        "                  dic[team] = {'GamesH':0,'GamesA':0,'FTHG':0,'FTAG':0,'HS':0,'AS':0,'HST':0,'AST':0}  # Repetindo para o caso do time ainda não ter sido inserido na lista;\n",
        "              dic[team]['GamesA'] = dic[team]['GamesA'] + 1 \n",
        "              dic[team]['FTAG'] = dic[team]['FTAG'] + int(menorDatabase.iloc[i,3]) #|-----------> FTAG: Goals do Visitante no jogo todo;  \n",
        "              dic[team]['AS'] = dic[team]['AS'] + int(menorDatabase.iloc[i,6]) #|---------------> AS: Chutes ao gol do Visitante;\n",
        "              dic[team]['AST'] = dic[team]['AST'] + int(menorDatabase.iloc[i,8]) #|-------------> AST: Chutes no alvo do Visitante;\n",
        "              \n",
        "    return dic\n",
        "\n",
        "def organizeTotals(totalPreviousrounds):\n",
        "    totalsOrganized = {}\n",
        "    for elm in totalPreviousrounds.keys():\n",
        "        totalsOrganized[elm]= {}\n",
        "    for key,value in zip(totalPreviousrounds.keys(),totalPreviousrounds.values()):\n",
        "        tempList= []\n",
        "        for elm in value.keys():\n",
        "            if(str(elm) == 'GamesH'):   #0\n",
        "                tempList.append(value[elm])\n",
        "            if(str(elm) == 'GamesA'):   #1\n",
        "                tempList.append(value[elm])\n",
        "            if(str(elm) == 'FTHG'):     #2\n",
        "                tempList.append(value[elm])\n",
        "            if(str(elm) == 'FTAG'):     #3\n",
        "                tempList.append(value[elm])\n",
        "            if(str(elm) == 'HS'):       #4\n",
        "                tempList.append(value[elm])\n",
        "            if(str(elm) == 'AS'):       #5\n",
        "                tempList.append(value[elm])\n",
        "            if(str(elm) == 'HST'):      #6\n",
        "                tempList.append(value[elm])\n",
        "            if(str(elm) == 'AST'):      #7\n",
        "                tempList.append(value[elm])\n",
        "        totalsOrganized[key] = tempList #|--------------------------------> No novo dicionário, o time recebe uma lista \n",
        "                                                    # com os dados especificos [gamesH,gamesA,fthg,ftag,hs,as,...];\n",
        "    return totalsOrganized\n",
        "\n",
        "def getStatistics(totalsOrganized):\n",
        "    databaseS = []\n",
        "    for elm,key in zip(totalsOrganized.values(),totalsOrganized.keys()):\n",
        "        tempList = [str(key)]                                          # Iniciando a lista temporaria, ja com o nome de cada time;\n",
        "    \n",
        "        tempList.append(elm[2]/elm[0])                 # FTHG/jogosH - Média de gol full time/H\n",
        "        tempList.append(elm[3]/elm[1])                 # FTAG/jogosA -  Média de gols ful time/A\n",
        "        tempList.append(elm[4]/elm[0])                 # HS/jogosH - Média de Chutes/H\n",
        "        tempList.append(elm[5]/elm[1])                 # AS/jogosA - Média de Chute/A\n",
        "        tempList.append(elm[6]/elm[0])                 # HST/jogosH - Média de chutes ao alvo/H\n",
        "        tempList.append(elm[7]/elm[1])                 # AST/jogosA - Média de chutes ao alvo/A\n",
        "        databaseS.append(tempList)\n",
        "    return databaseS  "
      ],
      "execution_count": null,
      "outputs": []
    },
    {
      "cell_type": "code",
      "metadata": {
        "id": "4LFiMLG3SWFz"
      },
      "source": [
        "def createX_Train(currentRound,x_train_dataset,menorDatabase):\n",
        "    final_stats = []\n",
        "\n",
        "    if currentRound == 13:\n",
        "        previous_rounds_totals = getTotalPreviousRounds(currentRound, menorDatabase)\n",
        "        totals_organized = organizeTotals(previous_rounds_totals)\n",
        "        teams_means = getStatistics(totals_organized)\n",
        "\n",
        "        stats_temp_Home = []\n",
        "        stats_temp_Away = []\n",
        "\n",
        "        for i in range(40, 120):\n",
        "\n",
        "            for j in range(20):\n",
        "\n",
        "                team_Home = menorDatabase.iloc[i, 0]  # Time mandante\n",
        "                team_Away = menorDatabase.iloc[i, 1]  # Time visitante\n",
        "\n",
        "                if team_Home == teams_means[j][0]:\n",
        "                    temp_list_01 = [teams_means[j][0], teams_means[j][1], teams_means[j][3], teams_means[j][5]]\n",
        "\n",
        "                    # print(temp_list_01)\n",
        "                    stats_temp_Home.append(temp_list_01)\n",
        "\n",
        "                if team_Away == teams_means[j][0]:\n",
        "                    temp_list_02 = [teams_means[j][0], teams_means[j][2], teams_means[j][4], teams_means[j][6]]\n",
        "                    stats_temp_Away.append(temp_list_02)\n",
        "\n",
        "        for i in range(80):\n",
        "            final_stats.append(\n",
        "                [stats_temp_Home[i][1], stats_temp_Away[i][1], stats_temp_Home[i][2], stats_temp_Away[i][2],\n",
        "                 stats_temp_Home[i][3], stats_temp_Away[i][3]])\n",
        "\n",
        "        for i in range(80):\n",
        "            x_train_dataset.loc[i] = final_stats[i]\n",
        "        \n",
        "    elif currentRound >= 14:\n",
        "\n",
        "        trainDataMax = (currentRound * 10) - 10\n",
        "        previous_rounds_totals = getTotalPreviousRounds(currentRound, menorDatabase)\n",
        "        totals_organized = organizeTotals(previous_rounds_totals)\n",
        "        teams_means = getStatistics(totals_organized)\n",
        "\n",
        "        stats_temp_Home = []\n",
        "        stats_temp_Away = []\n",
        "\n",
        "        for i in range(40, trainDataMax, 1):\n",
        "            for j in range(20):\n",
        "\n",
        "                team_Home = menorDatabase.iloc[i, 0]  # Time mandante\n",
        "                team_Away = menorDatabase.iloc[i, 1]  # Time visitante\n",
        "\n",
        "                if team_Home == teams_means[j][0]:\n",
        "                    temp_list_01 = [teams_means[j][0], teams_means[j][1], teams_means[j][3], teams_means[j][5]]\n",
        "\n",
        "                    # print(temp_list_01)\n",
        "                    stats_temp_Home.append(temp_list_01)\n",
        "\n",
        "                if team_Away == teams_means[j][0]:\n",
        "                    temp_list_02 = [teams_means[j][0], teams_means[j][2], teams_means[j][4], teams_means[j][6]]\n",
        "                    stats_temp_Away.append(temp_list_02)\n",
        "\n",
        "        for i in range(trainDataMax - 40):\n",
        "            final_stats.append(\n",
        "                [stats_temp_Home[i][1], stats_temp_Away[i][1], stats_temp_Home[i][2], stats_temp_Away[i][2],stats_temp_Home[i][3], stats_temp_Away[i][3]])\n",
        "\n",
        "       # x_train_dataset = pd.DataFrame(columns=['FTHGMean', 'FTAGMean', 'HSMean', 'ASMean', 'HSTMean', 'ASTMean'])\n",
        "\n",
        "        for i in range(trainDataMax - 40):\n",
        "           x_train_dataset.loc[i] = final_stats[i]\n",
        "  \n",
        "    return x_train_dataset\n",
        "\n",
        "def createY_Train(round_game,menorDatabase):\n",
        "      if (round_game >= 13 and round_game <= 38):\n",
        "        actualround = (round_game * 10)-10 # na planilha, a round 9 representa as linhas 80 a 89,por exemplo;\n",
        "        newDF = menorDatabase.iloc[40:actualround,4]\n",
        "      elif round_game == 13:\n",
        "        newDF = menorDatabase.iloc[0:40,4]\n",
        "      return newDF\n",
        "\n",
        "# Cria um dataframe de teste X com as estatísticas das 10 partidas da round especificada, a partir do DF de Estatísticas (\"gamesS\"):\n",
        "def createX_Test(round_game, menorDatabase, roundGames, roundGames02):\n",
        "   \n",
        "   # Organizando as médias dos times por rounds:\n",
        "  actualround = (round_game*10)-10 # na planilha, a round 9 representa as linhas 80 a 89,por exemplo;\n",
        "  tempDF = menorDatabase.iloc[actualround:actualround+10,0:]\n",
        "  mediasHome = roundGames[round_game]    #Coletando as médias dos times Mandantes da round;\n",
        "  mediasAway = roundGames02[round_game]  #Coletando as médias dos times Visitantes da round;\n",
        "\n",
        "  listHome = []\n",
        "  for i in range(10):\n",
        "    home = tempDF.iloc[i][0]\n",
        "    for j in range(10):\n",
        "      if mediasHome[j][0] == home:\n",
        "        listHome.append([mediasHome[j][1],mediasHome[j][3],mediasHome[j][5]])  #Adicionando uma lista com os valores das tres colunas de Home\n",
        "\n",
        "  listAway = []\n",
        "  for i in range(10):\n",
        "    away = tempDF.iloc[i][1]\n",
        "    for j in range(10):\n",
        "      if mediasAway[j][0] == away:\n",
        "        listAway.append([mediasAway[j][2],mediasAway[j][4],mediasAway[j][6]])  #Adicionando uma lista com os valores das tres colunas de Away\n",
        "\n",
        "  newDF_02 = pd.DataFrame(columns = ['FTHGMean','FTAGMean','HSMean','ASMean','HSTMean','ASTMean'])\n",
        "  \n",
        "  generalList = []\n",
        "  for i in range(10):\n",
        "      generalList.append([listHome[i][0],listAway[i][0],listHome[i][1],listAway[i][1],listHome[i][2],listAway[i][2]]) # Juntando os dados de Home e Away, por partida;\n",
        "      newDF_02.loc[i] = generalList[i] # adicionando cada linha com os valores da generalList;\n",
        "  \n",
        "  return newDF_02\n",
        "\n",
        "# Cria um dataframe de teste Y com os resultados (FTR) em formato binário (vitoria=1 =| derrota/empate=0) das 10 partidas da round especificada, a partir do DF de Resultados (gamesR):\n",
        "def createY_Test(round_game,menorDatabase):\n",
        "      if (round_game >= 13 and round_game <= 38):\n",
        "        actualround = (round_game*10)-10 # na planilha, a round 9 representa as linhas 80 a 89,por exemplo;\n",
        "        newDF = menorDatabase.iloc[actualround:actualround+10,4]\n",
        "        return newDF\n",
        "\n",
        "# Função que retorna um dataframe com os valores Resultado, B365H e OddLayH das 10 partidas da round especificada:\n",
        "def createBasePredict(round_game,data):\n",
        "      if (round_game >= 9 and round_game <= 38):\n",
        "         actualround = (round_game*10)-10 # na planilha, a round 9 representa as linhas 80 a 89,por exemplo;             \n",
        "         newData = data.drop(columns=['FTHG','FTAG','HS','AS','HST','AST'])\n",
        "         newDF = newData.iloc[actualround:actualround+10,0:]\n",
        "         return newDF\n"
      ],
      "execution_count": null,
      "outputs": []
    },
    {
      "cell_type": "markdown",
      "metadata": {
        "id": "VppMFZj_SpBw"
      },
      "source": [
        "**MAIN**"
      ]
    },
    {
      "cell_type": "code",
      "metadata": {
        "colab": {
          "resources": {
            "http://localhost:8080/nbextensions/google.colab/files.js": {
              "data": "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",
              "ok": true,
              "headers": [
                [
                  "content-type",
                  "application/javascript"
                ]
              ],
              "status": 200,
              "status_text": ""
            }
          },
          "base_uri": "https://localhost:8080/",
          "height": 72
        },
        "id": "ZIe1ooJ2Sr7t",
        "outputId": "507feab7-7d40-42f6-ec86-85103c364269"
      },
      "source": [
        "# Importando o arquivo e gerando o DataFrame com Pandas;\n",
        "uploaded = files.upload()\n",
        "dataset = pd.read_csv(io.BytesIO(uploaded['PremierLeague_2010_2011.csv']))\n",
        "df = pd.DataFrame(dataset)"
      ],
      "execution_count": null,
      "outputs": [
        {
          "output_type": "display_data",
          "data": {
            "text/html": [
              "\n",
              "     <input type=\"file\" id=\"files-7d6893d5-5760-4d85-bcc7-3b67180bb1d6\" name=\"files[]\" multiple disabled\n",
              "        style=\"border:none\" />\n",
              "     <output id=\"result-7d6893d5-5760-4d85-bcc7-3b67180bb1d6\">\n",
              "      Upload widget is only available when the cell has been executed in the\n",
              "      current browser session. Please rerun this cell to enable.\n",
              "      </output>\n",
              "      <script src=\"/nbextensions/google.colab/files.js\"></script> "
            ],
            "text/plain": [
              "<IPython.core.display.HTML object>"
            ]
          },
          "metadata": {
            "tags": []
          }
        },
        {
          "output_type": "stream",
          "text": [
            "Saving PremierLeague_2010_2011.csv to PremierLeague_2010_2011 (2).csv\n"
          ],
          "name": "stdout"
        }
      ]
    },
    {
      "cell_type": "markdown",
      "metadata": {
        "id": "LcsbdWG7quM6"
      },
      "source": [
        "**1.   FILTRANDO DADOS E CRIANDO O DATAFRAME BASE \"MENOR\" (EXECUTAR UMA ÚNICA VEZ!)**"
      ]
    },
    {
      "cell_type": "code",
      "metadata": {
        "id": "dCKyDW9lJTKw"
      },
      "source": [
        "#Removendo coluna 'Time'(Tempo, em Inglês): (Atualizado em: 24_02_2021)\n",
        "lista_colunas = df.columns.values.tolist()\n",
        "if lista_colunas[2] == 'Time':\n",
        "  df = df.drop(['Time'],axis=1)\n",
        "\n",
        "#Corrigindo diferença de quantidade de colunas: (Atualizado em: 24_02_2021)\n",
        "columns_size = df.shape[1]\n",
        "if columns_size < 105 and columns_size > 26:\n",
        "  diff = 105 - columns_size\n",
        "  i = 0 \n",
        "  name_column = ''\n",
        "  while i < diff:\n",
        "    df[name_column] = \"\"\n",
        "    name_column = name_column+\"-\"\n",
        "    i = i + 1\n",
        "\n",
        "# Filtra o DataFrame original com apenas as colunas necessárias para análise;\n",
        "odds = np.arange(26,105) # atribuindo o intervalo das colunas 25 a 70, onde estão as odds não analisadas. (retorna valores espaçados igualmente dentro de um intervalo definido)\n",
        "menor = df.drop(df.columns[odds],axis=1,inplace = True)  # Removendo as colunas de odds (permanentemente do DF original)\n",
        "menor = df.drop(columns = ['Div','Date','HTHG','HTAG','HTR','HF','AF','HC',\n",
        "                           'AC','HY','AY','HR','AR','Referee','B365D','B365A']) # Adicionei à remoção: B365D,B365A e as colunas dos times(Atualizado em: 25_02_2021)\n",
        "\n",
        "# Adicionando a coluna oddLayH no DF \"menor\";\n",
        "oddsLayH = []\n",
        "for i in range(380):\n",
        "  oddH = float(menor.iloc[i][9])\n",
        "  oddLayH = 1/(1-(1/oddH))\n",
        "  oddsLayH.append(oddLayH)\n",
        "\n",
        "menor['oddLayH'] = oddsLayH\n",
        "\n",
        "# Convertendo resultados de FTR para binario(Vitoria=1, Derrota=0 ,Empate=0) no DF \"menor\";\n",
        "listR = []\n",
        "for i in range(380): \n",
        "  if menor.iloc[i,4] == 'D':\n",
        "    listR.append(0)\n",
        "  elif menor.iloc[i,4] == 'H':\n",
        "    listR.append(1)\n",
        "  else:\n",
        "    listR.append(2)\n",
        "menor['FTR'] = listR"
      ],
      "execution_count": null,
      "outputs": []
    },
    {
      "cell_type": "markdown",
      "metadata": {
        "id": "4RznjB_oCLn3"
      },
      "source": [
        "**TESTES**"
      ]
    },
    {
      "cell_type": "markdown",
      "metadata": {
        "id": "0EYSK-S5CPoE"
      },
      "source": [
        "**MAIN**"
      ]
    },
    {
      "cell_type": "code",
      "metadata": {
        "id": "znFFlWXsVFU_"
      },
      "source": [
        "# Gerando os dados do time Mandante:\n",
        "currentround = 13\n",
        "roundGames = {}\n",
        "while(currentround <= 38):\n",
        "    games = []\n",
        "    actualround = (currentround*10)-10 # na planilha, a round 9 representa as linhas 80 a 89,exemplo;\n",
        "    for i in range(actualround,actualround+10,1):\n",
        "        team = menor.iloc[i,0]\n",
        "        totaisPrevios = getTotalPreviousRounds(currentround,menor)\n",
        "        totaisOrganizados = organizeTotals(totaisPrevios)\n",
        "        dataBaseStatistics = getStatistics(totaisOrganizados)\n",
        "        \n",
        "        tempList = []   # Gera uma Lista com a info do time mandante, em cada round;\n",
        "        for elm in dataBaseStatistics:\n",
        "            if team == elm[0]:\n",
        "                tempList = elm\n",
        "        games.append(tempList)\n",
        "    \n",
        "    roundGames[currentround] = games\n",
        "\n",
        "    currentround = currentround + 1;\n"
      ],
      "execution_count": null,
      "outputs": []
    },
    {
      "cell_type": "code",
      "metadata": {
        "id": "XUZ4jVthLtuk"
      },
      "source": [
        "# Gerando os dados do time Visitante:\n",
        "currentround = 13\n",
        "roundGames02 = {}\n",
        "while(currentround <= 38):\n",
        "    games = []\n",
        "    actualround = (currentround*10)-10 # na planilha, a round 9 representa as linhas 80 a 89,exemplo;\n",
        "    for i in range(actualround,actualround+10,1):\n",
        "        team = menor.iloc[i,1]\n",
        "        totaisPrevios = getTotalPreviousRounds(currentround,menor)\n",
        "        totaisOrganizados = organizeTotals(totaisPrevios)\n",
        "        dataBaseStatistics = getStatistics(totaisOrganizados)\n",
        "        \n",
        "        tempList = []   # Gera uma Lista com a info do time mandante, em cada round;\n",
        "        for elm in dataBaseStatistics:\n",
        "            if team == elm[0]:\n",
        "                tempList = elm\n",
        "        games.append(tempList)\n",
        "    \n",
        "    roundGames02[currentround] = games\n",
        "\n",
        "    currentround = currentround + 1;\n"
      ],
      "execution_count": null,
      "outputs": []
    },
    {
      "cell_type": "markdown",
      "metadata": {
        "id": "65KEMz8DWOn9"
      },
      "source": [
        "**2. Pré-Processamento**"
      ]
    },
    {
      "cell_type": "code",
      "metadata": {
        "id": "pcFGQIKbIReh",
        "colab": {
          "base_uri": "https://localhost:8080/"
        },
        "outputId": "006e51f5-bf95-4e85-d010-952c3848a23c"
      },
      "source": [
        "gamesS = menor.drop(columns = ['B365H','oddLayH','FTR','HomeTeam','AwayTeam']) # DF apenas com as colunas de estatisticas, sem as odds e sem os resultados de todas as partidas;\n",
        "#gamesR = menor.drop(columns = ['HomeTeam','AwayTeam','FTHG','FTAG','HS','AS','HST','AST','B365H','oddLayH']) # DF apenas com a coluna de resultados (FTR) de todas as partidas;\n",
        "\n",
        "# Gerando o modelo (com 2 camadas ocultas):\n",
        "model = tf.keras.models.Sequential()\n",
        "model.add(tf.keras.layers.Dense(24, input_dim=6, kernel_initializer='uniform', activation='relu'))\n",
        "model.add(tf.keras.layers.Dropout(0.2))\n",
        "model.add(tf.keras.layers.Dense(units = 24, activation='relu'))\n",
        "model.add(tf.keras.layers.Dropout(0.2))\n",
        "\n",
        "model.add(tf.keras.layers.Dense(3, activation='softmax')) # |---> Camada de Saída: 1 neurônio, com a função de ativação sigmoid;\n",
        "\n",
        "'''opt1 = tf.keras.optimizers.SGD(learning_rate=0.01, momentum=0.0, nesterov=False, name='SGD') # |------------------------------------------> Otimizador: Stochastic Gradient Descent\n",
        "opt2 = tf.keras.optimizers.Adam(learning_rate=0.1, beta_1=0.9, beta_2=0.999, epsilon=1e-08, decay=0.0, amsgrad=False,name='Adam') # |---> Otimizador: ADAM\n",
        "model.compile(optimizer=opt2, loss='binary_crossentropy', metrics=['accuracy'])'''\n",
        "\n",
        "#model.compile(tf.keras.optimizers.SGD(), loss='binary_crossentropy', metrics=['accuracy'])\n",
        "callback = tf.keras.callbacks.EarlyStopping(monitor='loss', patience=5)\n",
        "\n",
        "model.compile(tf.keras.optimizers.Adam(), loss='sparse_categorical_crossentropy', metrics=['sparse_categorical_accuracy'])\n",
        "\n",
        "round_game = 13      # |-------------------------------------------------------------> round inicial para predições;\n",
        "beg = 120\n",
        "x_train_dataset = pd.DataFrame(columns=['FTHGMean', 'FTAGMean', 'HSMean', 'ASMean', 'HSTMean', 'ASTMean'])\n",
        "LPTotal = 0\n",
        "somaAcuracias = 0\n",
        "somaACC = 0\n",
        "somaErros = 0\n",
        "somaAcertos = 0\n",
        "\n",
        "while round_game <= 38: # |------------------------------------> O tamanho da amostra foi reduzida. Agora só tem 350 linhas para treino e teste;\n",
        "  \n",
        "  # Montando os datasets de Treino X e Y (começará a partir dar 4ª round e terá médias em vez de valores base, com as 50 primeira linhas depois das 30 iniciais):\n",
        "  data_x_train = createX_Train(round_game,x_train_dataset,menor)  #|--------------------------------> Coleta as médias dos times Mandante e Visitante de cada partida e gera o dataset de treino X;\n",
        "  data_y_train = createY_Train(round_game,menor)        #|--------------------------------> Coleta os \"T\" valores a partir da 4ª round (linha 30) do DF de resultados;\n",
        "\n",
        "  x_train = tf.convert_to_tensor(data_x_train, dtype = tf.int32)  #|-----------> Convertendo o dataframe de treino de Estatísticas em Tensor de treino X;\n",
        "  y_train = tf.convert_to_tensor(data_y_train, dtype = tf.int32)  #|-----------> Convertendo o dataframe de treino de Resultados em Tensor de treino Y;\n",
        "  \n",
        "  # Montando os sets de text (x e y):\n",
        "  data_x_test = createX_Test(round_game, menor, roundGames, roundGames02)\n",
        "  data_y_test = createY_Test(round_game, menor)\n",
        "\n",
        "  x_test = tf.convert_to_tensor(data_x_test, dtype = tf.float32)  # |------------> Convertendo o dataframe de teste de Estatísticas em Tensor de teste X;\n",
        "  y_test = tf.convert_to_tensor(data_y_test, dtype = tf.float32)  # |------------> Convertendo o dataframe de teste de Resultados em Tensor de teste Y;\n",
        "\n",
        "  \n",
        "  # Treinando o modelo:\n",
        "  '''lr_sched = step_decay_schedule(initial_lr=0.001, decay_factor=0.40, step_size=10)\n",
        "  model.fit(x_train, y_train, epochs = 50, callbacks=[lr_sched], verbose = 0)'''\n",
        "  model.fit(x_train, y_train, epochs = 100, callbacks=[callback], verbose = 0 )\n",
        "\n",
        "  # Predições:\n",
        "  #  - Gerando predições para 10 jogos da round:\n",
        "  dataPredict = createBasePredict(round_game,menor) # |-----------------------------> DF com o Resultado, OddH e OddLayH de cada jogo da round; (Atualizado em: 25_02_2021)\n",
        "  predictions = model.predict(x_test)          # |-----------------------------> Previsão de Classificação do modelo para cada caso (0)s e (1)s;\n",
        "  predictedClasses = tf.argmax(predictions,1)\n",
        "\n",
        "  # Cálculo do Lucro/Prejuízo e dos Erros e Acertos:\n",
        "  acertosDaround = 0 \n",
        "  errosDaround = 0\n",
        "  bet = 100\n",
        "  LPround = 0\n",
        "\n",
        "  for i in range(10):\n",
        "    if predictedClasses[i] == 1:   # Algoritmo previu vitoria do mandante;\n",
        "        if dataPredict.iloc[i][2] == 1:         # Verifica se houve vitória do mandante;\n",
        "            acertosDaround = acertosDaround + 1\n",
        "            LPround = LPround + (bet * (dataPredict.iloc[i][3] - 1)) # Cálculo do prêmio em caso de aposta correta na vitória do Mandante;\n",
        "        else:\n",
        "            errosDaround = errosDaround + 1\n",
        "            LPround = LPround - bet           # Cáculo do prejuízo em caso de erro ao prever vitória do mandante;\n",
        "    else: # |----------------------------------> Algoritmo previu não-vitória (Derrota ou Empate) do mandante;\n",
        "        if dataPredict.iloc[i][2] == 0 or dataPredict.iloc[i][2] == 2:         # Verifica se houve não-vitória do mandante;\n",
        "            acertosDaround = acertosDaround + 1\n",
        "            LPround = LPround + (bet * (dataPredict.iloc[i][4] - 1)) # Cálculo do prêmio em caso de aposta correta na não-vitória do Mandante;\n",
        "        else:\n",
        "            errosDaround = errosDaround + 1\n",
        "            LPround = LPround - bet           # Cáculo do prejuízo em caso de erro ao prever não-vitória do mandante;\n",
        "\n",
        "  acuraciaround = (acertosDaround/float(acertosDaround+errosDaround))*100\n",
        "  _, test_acc = model.evaluate(x_test, y_test,verbose = 0)\n",
        "\n",
        "  somaErros = somaErros + errosDaround\n",
        "  somaAcertos = somaAcertos + acertosDaround\n",
        "\n",
        "  somaACC = somaACC + test_acc\n",
        "  somaAcuracias = somaAcuracias + acuraciaround\n",
        "  LPTotal = LPTotal + LPround # Acrescenta o L/P do round ao L/P total da temporada;'''\n",
        "  round_game = round_game + 1 \n",
        "  \n",
        "# RESULTADOS:\n",
        "\n",
        "taxa_de_erros = (somaErros/(somaErros+somaAcertos))*100\n",
        "\n",
        "if LPTotal >= 0:\n",
        "  print(\"O lucro total final foi de: R$ %.2f\" % LPTotal)\n",
        "else:\n",
        "  print(\"O prejuízo total final foi de: R$ %.2f\" % LPTotal)\n",
        "\n",
        "print(\"Acurácia Média: %.2f %%\" % (somaAcuracias/26))\n",
        "print(\"Taxa de erro: %.2f %%\" % taxa_de_erros)"
      ],
      "execution_count": null,
      "outputs": [
        {
          "output_type": "stream",
          "text": [
            "O prejuízo total final foi de: R$ -318.55\n",
            "Acurácia Média: 55.77 %\n",
            "Taxa de erro: 44.23 %\n"
          ],
          "name": "stdout"
        }
      ]
    },
    {
      "cell_type": "code",
      "metadata": {
        "id": "7gVz5Y_XywLC"
      },
      "source": [
        ""
      ],
      "execution_count": null,
      "outputs": []
    }
  ]
}